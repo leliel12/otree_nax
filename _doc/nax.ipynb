{
 "cells": [
  {
   "cell_type": "markdown",
   "metadata": {},
   "source": [
    "# Nax Experiment Estimation"
   ]
  },
  {
   "cell_type": "code",
   "execution_count": 1,
   "metadata": {
    "collapsed": false
   },
   "outputs": [],
   "source": [
    "import numpy as np\n",
    "import pert"
   ]
  },
  {
   "cell_type": "markdown",
   "metadata": {},
   "source": [
    "Task dictionary, every key is a task and every body is a tuple with the `(o, p, m)`\n",
    "\n",
    "Where:\n",
    "\n",
    "- optimistic time (O): the minimum possible time required to accomplish a\n",
    "  task, assuming everything proceeds better than is normally expected\n",
    "- pessimistic time (P): the maximum possible time required to accomplish a\n",
    "  task, assuming everything goes wrong (but excluding major catastrophes).\n",
    "- most likely time (M): the best estimate of the time required to\n",
    "  accomplish a task, assuming everything proceeds as normal."
   ]
  },
  {
   "cell_type": "markdown",
   "metadata": {},
   "source": [
    "All times are expresed in **hours**"
   ]
  },
  {
   "cell_type": "code",
   "execution_count": 25,
   "metadata": {
    "collapsed": true
   },
   "outputs": [],
   "source": [
    "fee = 20. # dollars per hour\n",
    "\n",
    "tasks = {\n",
    "    \"Static HTML Pages\": (2., 3, 2),\n",
    "    \"Backbox Control 1\": (2., 4, 3),\n",
    "    \"Backbox Control 2\": (2., 5, 3),\n",
    "    \"Threatment 1\": (2, 5, 3.),\n",
    "    \"Threatment 2\": (2, 5, 3.),\n",
    "    \"Threatment 3\": (2, 5, 3.),\n",
    "}"
   ]
  },
  {
   "cell_type": "markdown",
   "metadata": {},
   "source": [
    "### Expected time by taks"
   ]
  },
  {
   "cell_type": "markdown",
   "metadata": {},
   "source": [
    "the best estimate of the time required to accomplish a\n",
    "task, accounting for the fact that things don't always proceed as normal\n",
    "(the implication being that the expected time is the average time the\n",
    "task would require if the task were repeated on a number of occasions over\n",
    "an extended period of time).\n",
    "\n",
    "```\n",
    "TE = (O + 4M + P) / 6\n",
    "```"
   ]
  },
  {
   "cell_type": "code",
   "execution_count": 26,
   "metadata": {
    "collapsed": false
   },
   "outputs": [
    {
     "name": "stdout",
     "output_type": "stream",
     "text": [
      "                  Threatment 1 - 3.17 hs\n",
      "                  Threatment 2 - 3.17 hs\n",
      "                  Threatment 3 - 3.17 hs\n",
      "             Backbox Control 2 - 3.17 hs\n",
      "             Backbox Control 1 - 3.00 hs\n",
      "             Static HTML Pages - 2.17 hs\n"
     ]
    }
   ],
   "source": [
    "for k, v in tasks.items():\n",
    "    print k.rjust(30), \"-\", \"%.2f hs\" % pert.expect(*v)"
   ]
  },
  {
   "cell_type": "markdown",
   "metadata": {},
   "source": [
    "###Global Estimation\n",
    "\n",
    "Create a estimation for a set of values. This return three range of values with probablilities of 68.2%, 95.4%, 99.7%"
   ]
  },
  {
   "cell_type": "code",
   "execution_count": 27,
   "metadata": {
    "collapsed": false
   },
   "outputs": [],
   "source": [
    "optimists = [v[0] for v in tasks.values()]\n",
    "pesimists = [v[1] for v in tasks.values()]\n",
    "most_likely = [v[2] for v in tasks.values()]"
   ]
  },
  {
   "cell_type": "code",
   "execution_count": 28,
   "metadata": {
    "collapsed": false
   },
   "outputs": [
    {
     "name": "stdout",
     "output_type": "stream",
     "text": [
      "With 68.2% of probability the project will be ended in between 15.33 and 22.83 hours\n",
      "With 95.4% of probability the project will be ended in between 12.83 and 22.83 hours\n",
      "With 99.7% of probability the project will be ended in between 10.33 and 25.33 hours\n"
     ]
    }
   ],
   "source": [
    "probs = pert.estimate(optimists, pesimists, most_likely)\n",
    "\n",
    "print \"With {0}% of probability the project will be ended in between {1:.2f} and {2:.2f} hours\".format(\"68.2\", *probs[0])\n",
    "print \"With {0}% of probability the project will be ended in between {1:.2f} and {2:.2f} hours\".format(\"95.4\", *probs[1])\n",
    "print \"With {0}% of probability the project will be ended in between {1:.2f} and {2:.2f} hours\".format(\"99.7\", *probs[2])"
   ]
  },
  {
   "cell_type": "markdown",
   "metadata": {},
   "source": [
    "### Conclusion"
   ]
  },
  {
   "cell_type": "code",
   "execution_count": 29,
   "metadata": {
    "collapsed": false
   },
   "outputs": [
    {
     "name": "stdout",
     "output_type": "stream",
     "text": [
      "The project will be made in a range between of 15.33 (worst best) and 25.33 (best worst) hours\n",
      "In money the project will cost in between 306.67 usd and 506.67 usd\n"
     ]
    }
   ],
   "source": [
    "limits = (probs[0][0], probs[2][1])\n",
    "costs = (probs[0][0] * fee, probs[2][1] * fee)\n",
    "print \"The project will be made in a range between of {0:.2f} (worst best) and {1:.2f} (best worst) hours\".format(*limits)\n",
    "print \"In money the project will cost in between {0:.2f} usd and {1:.2f} usd\".format(*costs)"
   ]
  },
  {
   "cell_type": "code",
   "execution_count": 30,
   "metadata": {
    "collapsed": false
   },
   "outputs": [
    {
     "data": {
      "text/plain": [
       "'2015-12-19T20:55:23.433981'"
      ]
     },
     "execution_count": 30,
     "metadata": {},
     "output_type": "execute_result"
    }
   ],
   "source": [
    "import datetime; datetime.datetime.now().isoformat()"
   ]
  },
  {
   "cell_type": "markdown",
   "metadata": {
    "collapsed": true
   },
   "source": [
    "**An estimation is not a deadline**"
   ]
  },
  {
   "cell_type": "code",
   "execution_count": null,
   "metadata": {
    "collapsed": true
   },
   "outputs": [],
   "source": []
  },
  {
   "cell_type": "code",
   "execution_count": null,
   "metadata": {
    "collapsed": true
   },
   "outputs": [],
   "source": []
  }
 ],
 "metadata": {
  "kernelspec": {
   "display_name": "Python 2",
   "language": "python",
   "name": "python2"
  },
  "language_info": {
   "codemirror_mode": {
    "name": "ipython",
    "version": 2
   },
   "file_extension": ".py",
   "mimetype": "text/x-python",
   "name": "python",
   "nbconvert_exporter": "python",
   "pygments_lexer": "ipython2",
   "version": "2.7.6"
  }
 },
 "nbformat": 4,
 "nbformat_minor": 0
}
